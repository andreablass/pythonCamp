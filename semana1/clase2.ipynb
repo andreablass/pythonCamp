{
 "cells": [
  {
   "cell_type": "code",
   "execution_count": 5,
   "metadata": {},
   "outputs": [
    {
     "name": "stdout",
     "output_type": "stream",
     "text": [
      "\n",
      "Hola, buenos días\n",
      "mi nombre es José.\n",
      "Gusto en conocerte.\n",
      "\n",
      "\n",
      "Hola, buenos días\n",
      "mi nombre es José.\n",
      "Gusto en conocerte.\n",
      "\n",
      "Buenas tardes, ¿Cómo estás?\n",
      "Hola!Hola!Hola!Hola!\n",
      "888\n",
      "\"\n",
      "Sobre tu altura suprema todo es 1\n",
      "puro, oh Montaña: tus hielos, la atmósfera, mi pensamiento. De tu cúspide adormecida en el silencio de la noche, el hombre como sobre un pedestal, levanta una gigantesca estructura y sumerge en las lejanas promesas del firmamento 2\n",
      "constelado la inquietud de la mirada. 3\n",
      "\n",
      "<class 'int'>\n",
      "<class 'bool'>\n",
      "<class 'bool'>\n"
     ]
    }
   ],
   "source": [
    "print('''\n",
    "Hola, buenos días\n",
    "mi nombre es José.\n",
    "Gusto en conocerte.\n",
    "''')\n",
    "\n",
    "print(\"\"\"\n",
    "Hola, buenos días\n",
    "mi nombre es José.\n",
    "Gusto en conocerte.\n",
    "\"\"\")\n",
    "      \n",
    "print('Buenas tardes, ' + '¿Cómo estás?')\n",
    "print('Hola!' * 4)\n",
    "print('8' * 3)      \n",
    "\n",
    "print(\"\"\"\"\n",
    "Sobre tu altura suprema todo es 1\n",
    "puro, oh Montaña: tus hielos, la atmósfera, mi pensamiento. De tu cúspide adormecida en el silencio de la noche, el hombre como sobre un pedestal, levanta una gigantesca estructura y sumerge en las lejanas promesas del firmamento 2\n",
    "constelado la inquietud de la mirada. 3\n",
    "\"\"\")\n",
    "      \n",
    "numero = 7\n",
    "cierto = True\n",
    "falso = False\n",
    "\n",
    "print(type(numero))\n",
    "print(type(cierto))\n",
    "print(type(falso))\n"
   ]
  },
  {
   "cell_type": "code",
   "execution_count": null,
   "metadata": {},
   "outputs": [],
   "source": []
  }
 ],
 "metadata": {
  "kernelspec": {
   "display_name": "Python 3",
   "language": "python",
   "name": "python3"
  },
  "language_info": {
   "codemirror_mode": {
    "name": "ipython",
    "version": 3
   },
   "file_extension": ".py",
   "mimetype": "text/x-python",
   "name": "python",
   "nbconvert_exporter": "python",
   "pygments_lexer": "ipython3",
   "version": "3.11.4"
  },
  "orig_nbformat": 4
 },
 "nbformat": 4,
 "nbformat_minor": 2
}
