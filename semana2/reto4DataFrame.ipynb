{
 "cells": [
  {
   "cell_type": "markdown",
   "metadata": {},
   "source": [
    "## **Reto de la semana**\n",
    "\n",
    "Descarga el archivo de Excel de la siguiente liga, la cual deberás subir a tu Drive:https://docs.google.com/spreadsheets/d/1muHS297qH0BfsASI5thANRRy2-zjeODS/edit?usp=sharing&ouid=109463671594466264489&rtpof=true&sd=true\n",
    "\n",
    "El reto consta de dos partes:\n",
    "\n",
    "1. Genera un **data frame** llamado `reto` (¡no olvides importar `Pandas` y `Numpy`!) y observa su composición con la función `.head` o `.tail`.\n",
    "2. Haz, por lo menos, dos **groupby** usando la información del **data frame** `reto`. Puedes experimentar tomando diferentes valores.\n"
   ]
  },
  {
   "cell_type": "code",
   "execution_count": 3,
   "metadata": {},
   "outputs": [],
   "source": [
    "import pandas as pd\n",
    "import numpy as np"
   ]
  },
  {
   "cell_type": "code",
   "execution_count": 2,
   "metadata": {},
   "outputs": [],
   "source": [
    "df = pd.read_csv('/Users/andreblass/Documents/Python/Ucamp/semana2/tarjetasdecredito.xlsx - data.csv')"
   ]
  },
  {
   "cell_type": "code",
   "execution_count": 5,
   "metadata": {},
   "outputs": [
    {
     "data": {
      "text/html": [
       "<div>\n",
       "<style scoped>\n",
       "    .dataframe tbody tr th:only-of-type {\n",
       "        vertical-align: middle;\n",
       "    }\n",
       "\n",
       "    .dataframe tbody tr th {\n",
       "        vertical-align: top;\n",
       "    }\n",
       "\n",
       "    .dataframe thead th {\n",
       "        text-align: right;\n",
       "    }\n",
       "</style>\n",
       "<table border=\"1\" class=\"dataframe\">\n",
       "  <thead>\n",
       "    <tr style=\"text-align: right;\">\n",
       "      <th></th>\n",
       "      <th>id</th>\n",
       "      <th>first_name</th>\n",
       "      <th>last_name</th>\n",
       "      <th>age</th>\n",
       "      <th>credit_card</th>\n",
       "      <th>city</th>\n",
       "    </tr>\n",
       "  </thead>\n",
       "  <tbody>\n",
       "    <tr>\n",
       "      <th>0</th>\n",
       "      <td>1</td>\n",
       "      <td>Megan</td>\n",
       "      <td>Osmund</td>\n",
       "      <td>55</td>\n",
       "      <td>visa</td>\n",
       "      <td>Huachos</td>\n",
       "    </tr>\n",
       "    <tr>\n",
       "      <th>1</th>\n",
       "      <td>2</td>\n",
       "      <td>Calhoun</td>\n",
       "      <td>Debney</td>\n",
       "      <td>51</td>\n",
       "      <td>mastercard</td>\n",
       "      <td>Hashaat</td>\n",
       "    </tr>\n",
       "    <tr>\n",
       "      <th>2</th>\n",
       "      <td>3</td>\n",
       "      <td>Millicent</td>\n",
       "      <td>Buckles</td>\n",
       "      <td>28</td>\n",
       "      <td>visa</td>\n",
       "      <td>Nagbacalan</td>\n",
       "    </tr>\n",
       "    <tr>\n",
       "      <th>3</th>\n",
       "      <td>4</td>\n",
       "      <td>Hartley</td>\n",
       "      <td>Petticrew</td>\n",
       "      <td>39</td>\n",
       "      <td>mastercard</td>\n",
       "      <td>La Virgen</td>\n",
       "    </tr>\n",
       "    <tr>\n",
       "      <th>4</th>\n",
       "      <td>5</td>\n",
       "      <td>Cynthy</td>\n",
       "      <td>Laurenzi</td>\n",
       "      <td>51</td>\n",
       "      <td>mastercard</td>\n",
       "      <td>Combapata</td>\n",
       "    </tr>\n",
       "  </tbody>\n",
       "</table>\n",
       "</div>"
      ],
      "text/plain": [
       "   id first_name  last_name  age credit_card        city\n",
       "0   1      Megan     Osmund   55        visa     Huachos\n",
       "1   2    Calhoun     Debney   51  mastercard     Hashaat\n",
       "2   3  Millicent    Buckles   28        visa  Nagbacalan\n",
       "3   4    Hartley  Petticrew   39  mastercard   La Virgen\n",
       "4   5     Cynthy   Laurenzi   51  mastercard   Combapata"
      ]
     },
     "execution_count": 5,
     "metadata": {},
     "output_type": "execute_result"
    }
   ],
   "source": [
    "df.head() "
   ]
  },
  {
   "cell_type": "code",
   "execution_count": 8,
   "metadata": {},
   "outputs": [
    {
     "data": {
      "text/html": [
       "<div>\n",
       "<style scoped>\n",
       "    .dataframe tbody tr th:only-of-type {\n",
       "        vertical-align: middle;\n",
       "    }\n",
       "\n",
       "    .dataframe tbody tr th {\n",
       "        vertical-align: top;\n",
       "    }\n",
       "\n",
       "    .dataframe thead th {\n",
       "        text-align: right;\n",
       "    }\n",
       "</style>\n",
       "<table border=\"1\" class=\"dataframe\">\n",
       "  <thead>\n",
       "    <tr style=\"text-align: right;\">\n",
       "      <th></th>\n",
       "      <th>id</th>\n",
       "      <th>first_name</th>\n",
       "      <th>last_name</th>\n",
       "      <th>age</th>\n",
       "      <th>credit_card</th>\n",
       "      <th>city</th>\n",
       "    </tr>\n",
       "  </thead>\n",
       "  <tbody>\n",
       "    <tr>\n",
       "      <th>995</th>\n",
       "      <td>996</td>\n",
       "      <td>Patricia</td>\n",
       "      <td>Broinlich</td>\n",
       "      <td>50</td>\n",
       "      <td>mastercard</td>\n",
       "      <td>Novyy Starodub</td>\n",
       "    </tr>\n",
       "    <tr>\n",
       "      <th>996</th>\n",
       "      <td>997</td>\n",
       "      <td>Trumann</td>\n",
       "      <td>Cloughton</td>\n",
       "      <td>51</td>\n",
       "      <td>visa</td>\n",
       "      <td>Dhahab</td>\n",
       "    </tr>\n",
       "    <tr>\n",
       "      <th>997</th>\n",
       "      <td>998</td>\n",
       "      <td>Eben</td>\n",
       "      <td>Bickerdicke</td>\n",
       "      <td>21</td>\n",
       "      <td>visa</td>\n",
       "      <td>Khawr Maksar</td>\n",
       "    </tr>\n",
       "    <tr>\n",
       "      <th>998</th>\n",
       "      <td>999</td>\n",
       "      <td>Isador</td>\n",
       "      <td>Larcier</td>\n",
       "      <td>41</td>\n",
       "      <td>mastercard</td>\n",
       "      <td>Charleston</td>\n",
       "    </tr>\n",
       "    <tr>\n",
       "      <th>999</th>\n",
       "      <td>1000</td>\n",
       "      <td>Katrine</td>\n",
       "      <td>Parrott</td>\n",
       "      <td>25</td>\n",
       "      <td>visa</td>\n",
       "      <td>Enköping</td>\n",
       "    </tr>\n",
       "  </tbody>\n",
       "</table>\n",
       "</div>"
      ],
      "text/plain": [
       "       id first_name    last_name  age credit_card            city\n",
       "995   996   Patricia    Broinlich   50  mastercard  Novyy Starodub\n",
       "996   997    Trumann    Cloughton   51        visa          Dhahab\n",
       "997   998       Eben  Bickerdicke   21        visa    Khawr Maksar\n",
       "998   999     Isador      Larcier   41  mastercard      Charleston\n",
       "999  1000    Katrine      Parrott   25        visa        Enköping"
      ]
     },
     "execution_count": 8,
     "metadata": {},
     "output_type": "execute_result"
    }
   ],
   "source": [
    "df.tail()"
   ]
  },
  {
   "cell_type": "code",
   "execution_count": 11,
   "metadata": {},
   "outputs": [
    {
     "data": {
      "text/plain": [
       "age\n",
       "20              Bakung\n",
       "21           Ankazoabo\n",
       "22             Agrínio\n",
       "23              Abadou\n",
       "24         Ampelókipoi\n",
       "25              Aemura\n",
       "26      Alcácer do Sal\n",
       "27              Acaraú\n",
       "28             Airmata\n",
       "29              Bobowo\n",
       "30        Anse Boileau\n",
       "31          Almafuerte\n",
       "32               Abaza\n",
       "33             Batelov\n",
       "34           Ad Dujayl\n",
       "35              Amerta\n",
       "36              Arauco\n",
       "37               Abang\n",
       "38         Ar Rudayyif\n",
       "39             Altares\n",
       "40          Al Ḩarajah\n",
       "41    's-Hertogenbosch\n",
       "42               Aktau\n",
       "43            Chmielno\n",
       "44           Angoulême\n",
       "45             Añatuya\n",
       "46             Alkmaar\n",
       "47         Al Qamşīyah\n",
       "48             Boljoon\n",
       "49            Ardirejo\n",
       "50               Banos\n",
       "51            Alvarães\n",
       "52              Abaeté\n",
       "53             Arsenal\n",
       "54               Agogo\n",
       "55                Aksu\n",
       "Name: city, dtype: object"
      ]
     },
     "execution_count": 11,
     "metadata": {},
     "output_type": "execute_result"
    }
   ],
   "source": [
    "df.groupby(by= 'age')['city'].min()"
   ]
  }
 ],
 "metadata": {
  "kernelspec": {
   "display_name": "Python 3",
   "language": "python",
   "name": "python3"
  },
  "language_info": {
   "codemirror_mode": {
    "name": "ipython",
    "version": 3
   },
   "file_extension": ".py",
   "mimetype": "text/x-python",
   "name": "python",
   "nbconvert_exporter": "python",
   "pygments_lexer": "ipython3",
   "version": "3.11.4"
  },
  "orig_nbformat": 4
 },
 "nbformat": 4,
 "nbformat_minor": 2
}
