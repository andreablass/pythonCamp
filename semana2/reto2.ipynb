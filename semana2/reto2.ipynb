{
 "cells": [
  {
   "cell_type": "code",
   "execution_count": null,
   "metadata": {},
   "outputs": [],
   "source": [
    "#Ponte a prueba\n",
    "#Genera una lista llamada numeros_primos que contenga los siguientes valores: 1 2 3 5 7 11 13 17 19 23 29 31\n",
    "#Ahora deberás indicar cuál es el tercer valor, el séptimo valor y el último valor usando las expresiones que aprendimos en este apartado."
   ]
  },
  {
   "cell_type": "code",
   "execution_count": 1,
   "metadata": {},
   "outputs": [
    {
     "name": "stdout",
     "output_type": "stream",
     "text": [
      "Third value:  3  Seventh value:  13  Last value:  31\n"
     ]
    }
   ],
   "source": [
    "numeros_primos = [1, 2, 3, 5, 7, 11, 13, 17, 19, 23, 29, 31]\n",
    "print('Third value: ',numeros_primos[2], ' Seventh value: ',numeros_primos[6], ' Last value: ',numeros_primos[11])"
   ]
  }
 ],
 "metadata": {
  "kernelspec": {
   "display_name": "Python 3",
   "language": "python",
   "name": "python3"
  },
  "language_info": {
   "codemirror_mode": {
    "name": "ipython",
    "version": 3
   },
   "file_extension": ".py",
   "mimetype": "text/x-python",
   "name": "python",
   "nbconvert_exporter": "python",
   "pygments_lexer": "ipython3",
   "version": "3.11.4"
  },
  "orig_nbformat": 4
 },
 "nbformat": 4,
 "nbformat_minor": 2
}
