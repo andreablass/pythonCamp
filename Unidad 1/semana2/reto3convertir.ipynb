{
 "cells": [
  {
   "cell_type": "code",
   "execution_count": 5,
   "metadata": {},
   "outputs": [
    {
     "name": "stdout",
     "output_type": "stream",
     "text": [
      "El numero 305 en números romanos es CCCV\n"
     ]
    }
   ],
   "source": [
    "#Convertir de arabes a romano\n",
    "##\n",
    "def conversor (numero_romano):\n",
    "    \"\"\"\n",
    "    Función que convierte árabes en romanos\n",
    "    \"\"\"\n",
    "    numero_inicial = numero_romano\n",
    "    romano = ''\n",
    "    lista_romanos = ['M', 'CM', 'D', 'CD', 'C', 'XC', 'L', 'XL', 'X', 'IX', 'V', 'IV', 'I']\n",
    "    lista_arabes = [1000, 900, 500, 400, 100, 90, 50, 40, 10, 9, 5, 4, 1]\n",
    "    for i in  lista_arabes:\n",
    "        if (numero_inicial )\n",
    "    print(f'El numero {numero_inicial} en números romanos es {romano}')\n",
    "\n",
    "romano = 305\n",
    "\n",
    "conversor(arabe)"
   ]
  },
  {
   "cell_type": "code",
   "execution_count": 6,
   "metadata": {},
   "outputs": [
    {
     "name": "stdout",
     "output_type": "stream",
     "text": [
      "Roman numeral MMXVIII equal to:2018\n"
     ]
    }
   ],
   "source": [
    "def transform_roman_numeral_to_number(roman_numeral):\n",
    "    roman_char_dict = {'I': 1, 'V': 5, 'X': 10, 'L': 50, 'C': 100, 'D': 500, 'M': 1000}\n",
    "    res = 0\n",
    "    for i in range(0, len(roman_numeral)):\n",
    "        if i == 0 or roman_char_dict[roman_numeral[i]] <= roman_char_dict[roman_numeral[i - 1]]:\n",
    "            res += roman_char_dict[roman_numeral[i]]\n",
    "        else:\n",
    "            res += roman_char_dict[roman_numeral[i]] - 2 * roman_char_dict[roman_numeral[i - 1]]\n",
    "    return res\n",
    " \n",
    " \n",
    "roman_numeral_input = 'MMXVIII'\n",
    "number_output = transform_roman_numeral_to_number(roman_numeral_input)\n",
    "print('Roman numeral {0} equal to:{1}'.format(roman_numeral_input, number_output))"
   ]
  },
  {
   "cell_type": "code",
   "execution_count": 1,
   "metadata": {},
   "outputs": [
    {
     "name": "stdout",
     "output_type": "stream",
     "text": [
      "El numero 305 en números romanos es CCCV\n"
     ]
    }
   ],
   "source": [
    "def conversor (numero_arabe):\n",
    "    \"\"\"\n",
    "    Función que convierte árabes en romanos\n",
    "    \"\"\"\n",
    "    numero_inicial = numero_arabe\n",
    "    romano = ''\n",
    "    lista_romanos = ['M', 'CM', 'D', 'CD', 'C', 'XC', 'L', 'XL', 'X', 'IX', 'V', 'IV', 'I']\n",
    "    lista_arabes = [1000, 900, 500, 400, 100, 90, 50, 40, 10, 9, 5, 4, 1]\n",
    "    for i in  lista_arabes:\n",
    "        while numero_arabe - i >= 0:\n",
    "            numero_arabe = numero_arabe - i\n",
    "            romano += lista_romanos[lista_arabes.index(i)]\n",
    "    print(f'El numero {numero_inicial} en números romanos es {romano}')\n",
    "\n",
    "arabe = 305\n",
    "\n",
    "conversor(arabe)"
   ]
  },
  {
   "cell_type": "code",
   "execution_count": 2,
   "metadata": {},
   "outputs": [
    {
     "name": "stdout",
     "output_type": "stream",
     "text": [
      "XXI 1\n",
      "XXI 11\n",
      "XXI 21\n"
     ]
    }
   ],
   "source": [
    "DNum_Romanos = {'I': 1,'V': 5,'X': 10,'L': 50,'C': 100,'D': 500,'M': 1000}\n",
    "\n",
    " \n",
    "\n",
    "num = input(\"Ingresa un número romano: \")\n",
    "\n",
    "num_arabico = 0\n",
    "\n",
    "vcalculo_sig = 0\n",
    "\n",
    " \n",
    "\n",
    "for i in reversed(num):\n",
    "\n",
    "    calculo = DNum_Romanos[i]\n",
    "\n",
    " \n",
    "\n",
    "    if calculo < vcalculo_sig:\n",
    "\n",
    "        num_arabico -= calculo\n",
    "\n",
    " \n",
    "\n",
    "    else:\n",
    "\n",
    "        num_arabico +=calculo\n",
    "\n",
    " \n",
    "\n",
    "    vcalculo_sig = calculo\n",
    "\n",
    " \n",
    "\n",
    "    print(num, + num_arabico)"
   ]
  }
 ],
 "metadata": {
  "kernelspec": {
   "display_name": "Python 3",
   "language": "python",
   "name": "python3"
  },
  "language_info": {
   "codemirror_mode": {
    "name": "ipython",
    "version": 3
   },
   "file_extension": ".py",
   "mimetype": "text/x-python",
   "name": "python",
   "nbconvert_exporter": "python",
   "pygments_lexer": "ipython3",
   "version": "3.11.4"
  },
  "orig_nbformat": 4
 },
 "nbformat": 4,
 "nbformat_minor": 2
}
