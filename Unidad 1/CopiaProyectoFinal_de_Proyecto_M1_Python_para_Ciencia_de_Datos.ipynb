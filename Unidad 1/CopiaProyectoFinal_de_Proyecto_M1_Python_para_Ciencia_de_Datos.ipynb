{
  "nbformat": 4,
  "nbformat_minor": 0,
  "metadata": {
    "colab": {
      "provenance": []
    },
    "kernelspec": {
      "name": "python3",
      "display_name": "Python 3"
    },
    "language_info": {
      "name": "python"
    }
  },
  "cells": [
    {
      "cell_type": "markdown",
      "source": [
        "# **Bootcamp Ciencia de Datos e Inteligencia Artificial**\n",
        "# **Proyecto Módulo 1. Python para Ciencia de Datos**\n",
        "\n"
      ],
      "metadata": {
        "id": "fR3jvxoWv9WN"
      }
    },
    {
      "cell_type": "markdown",
      "source": [
        "## Introducción\n",
        "\n",
        "Has aprendido lo más elemental en tu camino para convertirte en un científico de datos y estás preparado para afrontar una de las actividades más comunes del trabajo cotidiano de un _data scientist_; es decir, revisar y analizar información solicitada por algún cliente.  \n",
        "\n",
        "Este proyecto representa un desafío que tomará algo de tiempo, de manera que necesitarás mucha concentración y persistencia; sin embargo, eres completamente capaz de resolverlo. Así, en cuestión de semanas notarás la facilidad con que realizas este tipo de actividades."
      ],
      "metadata": {
        "id": "MHW9subLIsg5"
      }
    },
    {
      "cell_type": "markdown",
      "source": [
        "## Demo\n",
        "\n",
        "Este documento te servirá como inspiración para crear el tuyo: https://drive.google.com/file/d/1HH_aauW-84bnoBcooZtT7hRN4bFT5uB8/view?usp=sharing"
      ],
      "metadata": {
        "id": "PRIEEm01JYpW"
      }
    },
    {
      "cell_type": "markdown",
      "source": [
        "## ¿Qué construirás?\n",
        "\n",
        "Un documento de Google Colaboratory que funja como introducción a las actividades más comunes de tu labor cotidiana. Considera que este trabajo se convertirá en una guía para los módulos siguientes, dado que practicarás las habilidades básicas necesarias para implementar un modelo."
      ],
      "metadata": {
        "id": "ozrD68J_KHMc"
      }
    },
    {
      "cell_type": "markdown",
      "source": [
        "## Objetivos\n",
        "\n",
        "El participante:\n",
        "\n",
        "- Se familiarizará con la estructura del lenguaje **Python** enfocada en la ciencia de datos.\n",
        "- Comprenderá que cada proyecto solicitado poseerá distintas características (gráficos de un cierto tipo o diseño, algunos datos estadísticos, entre otros).\n",
        "- Entenderá que algunos datos se interpretan mejor al utilizar determinadas herramientas, tales como **Pandas**, **Numpy** y **Matplotlib**.\n",
        "- Asimilará la manera de estructurar la información que requiera analizar."
      ],
      "metadata": {
        "id": "ax8X7ytUKsrg"
      }
    },
    {
      "cell_type": "markdown",
      "source": [
        "## Requisitos\n",
        "\n",
        "- El proyecto se entregará en forma individual.\n",
        "- Cada participante deberá completar el archivo de **Google Colab** ubicado en su **Google Drive** personal. Al finalizar, compartirá el enlace en el espacio designado en **Teams**."
      ],
      "metadata": {
        "id": "TI8jx-y3Exg1"
      }
    },
    {
      "cell_type": "markdown",
      "source": [
        "## Entregables\n",
        "\n",
        "Cada participante hará una copia del presente documento y la guardará en su **Google Drive** personal.\n",
        "\n",
        "Leerá cada una de las preguntas y responderá utilizando bloques de código (a excepción de la pregunta 7, que podrá responderse con un bloque de texto).\n",
        "\n",
        "Los resultados deberán ser inteligibles y se recomienda utilizar funciones como `print` para dar claridad a las respuestas.\n",
        "\n",
        "Es posible investigar soluciones en otras fuentes o recurrir a clases anteriores; sin embargo, el estudiante debe comprender lo escrito en código.\n",
        "\n",
        "Algunas respuestas tienen diversas formas de resolverse, no obstante, debe existir precisión en el código escrito y en el propósito que persigue.\n",
        "\n",
        "¡Comencemos!\n"
      ],
      "metadata": {
        "id": "R_kZ2D4v0u9X"
      }
    },
    {
      "cell_type": "code",
      "source": [
        "from google.colab import drive\n",
        "drive.mount('/content/drive')"
      ],
      "metadata": {
        "id": "Q7DD3TsR6l6I",
        "colab": {
          "base_uri": "https://localhost:8080/"
        },
        "outputId": "f45e1004-2bd8-4e1f-a6e9-ab7a0257552c"
      },
      "execution_count": 3,
      "outputs": [
        {
          "output_type": "stream",
          "name": "stdout",
          "text": [
            "Mounted at /content/drive\n"
          ]
        }
      ]
    },
    {
      "cell_type": "code",
      "execution_count": 4,
      "metadata": {
        "id": "LjNwIEwZN8nP"
      },
      "outputs": [],
      "source": [
        "import pandas as pd\n",
        "import numpy as np\n",
        "import matplotlib.pyplot as plt #No quitar"
      ]
    },
    {
      "cell_type": "markdown",
      "source": [
        "### Pregunta 1\n",
        "Descarga los siguientes archivos:\n",
        "- Este archivo csv enlista diferentes celulares y una serie de calificaciones de distintos usuarios: https://drive.google.com/file/d/1atasE-fuDyAt8Z7JGZQroKJwjNkbpyrn/view?usp=sharing\n",
        "- Este documento csv incluye un listado de las marcas de dichos teléfonos celulares: https://drive.google.com/file/d/1ICBvPkSVajVVMHyrMABYiwuwefv_3oPJ/view?usp=sharing\n",
        "\n",
        "Sube estos archivos en un **Google Drive** y con `pd.read_csv` nómbralos como `df_modelos` y `df_marcas`.\n",
        "\n",
        "Indica en un solo código el número de filas que tiene el archivo `df_modelos` que creaste.\n",
        "\n"
      ],
      "metadata": {
        "id": "IksPNalDSH7R"
      }
    },
    {
      "cell_type": "code",
      "source": [
        "df_modelos = pd.read_csv('/content/drive/MyDrive/Ucamp/Modelos.csv', encoding='latin1')"
      ],
      "metadata": {
        "id": "OTVy-_h8R3Wk"
      },
      "execution_count": 18,
      "outputs": []
    },
    {
      "cell_type": "code",
      "source": [
        "df_marcas = pd.read_csv('/content/drive/MyDrive/Ucamp/Marcas.csv')"
      ],
      "metadata": {
        "id": "YKDZypl2ujhX"
      },
      "execution_count": 6,
      "outputs": []
    },
    {
      "cell_type": "code",
      "source": [
        "df_modelos.head()\n"
      ],
      "metadata": {
        "colab": {
          "base_uri": "https://localhost:8080/",
          "height": 276
        },
        "id": "IdeLjQcBONg4",
        "outputId": "0cd4edfb-5606-420f-fc10-c5b94fdb7d40"
      },
      "execution_count": 19,
      "outputs": [
        {
          "output_type": "execute_result",
          "data": {
            "text/plain": [
              "   ID Marca                           Modelo  RAM_GB  ROM_GB  Calificaciones  \\\n",
              "0        10      Redmi 8 (Onyx Black, 64 GB)       4      64          674638   \n",
              "1         9  Realme 5i (Forest Green, 64 GB)       4      64          243106   \n",
              "2         9     Realme 5i (Aqua Blue, 64 GB)       4      64          243106   \n",
              "3        10   Redmi 8 (Sapphire Blue, 64 GB)       4      32          674638   \n",
              "4         8  POCO X2 (Matrix Purple, 128 GB)       6      64          133486   \n",
              "\n",
              "   Reseas  Estrellas  Precio de lista  Precio de venta  \n",
              "0    50064        4.4            10999             9999  \n",
              "1    16497        4.5            10999            10999  \n",
              "2    16497        4.5            10999            10999  \n",
              "3    50064        4.4            10999             9999  \n",
              "4    14732        4.5            19999            18499  "
            ],
            "text/html": [
              "\n",
              "  <div id=\"df-76fd881c-c362-471f-a792-dd8767b298b9\" class=\"colab-df-container\">\n",
              "    <div>\n",
              "<style scoped>\n",
              "    .dataframe tbody tr th:only-of-type {\n",
              "        vertical-align: middle;\n",
              "    }\n",
              "\n",
              "    .dataframe tbody tr th {\n",
              "        vertical-align: top;\n",
              "    }\n",
              "\n",
              "    .dataframe thead th {\n",
              "        text-align: right;\n",
              "    }\n",
              "</style>\n",
              "<table border=\"1\" class=\"dataframe\">\n",
              "  <thead>\n",
              "    <tr style=\"text-align: right;\">\n",
              "      <th></th>\n",
              "      <th>ID Marca</th>\n",
              "      <th>Modelo</th>\n",
              "      <th>RAM_GB</th>\n",
              "      <th>ROM_GB</th>\n",
              "      <th>Calificaciones</th>\n",
              "      <th>Reseas</th>\n",
              "      <th>Estrellas</th>\n",
              "      <th>Precio de lista</th>\n",
              "      <th>Precio de venta</th>\n",
              "    </tr>\n",
              "  </thead>\n",
              "  <tbody>\n",
              "    <tr>\n",
              "      <th>0</th>\n",
              "      <td>10</td>\n",
              "      <td>Redmi 8 (Onyx Black, 64 GB)</td>\n",
              "      <td>4</td>\n",
              "      <td>64</td>\n",
              "      <td>674638</td>\n",
              "      <td>50064</td>\n",
              "      <td>4.4</td>\n",
              "      <td>10999</td>\n",
              "      <td>9999</td>\n",
              "    </tr>\n",
              "    <tr>\n",
              "      <th>1</th>\n",
              "      <td>9</td>\n",
              "      <td>Realme 5i (Forest Green, 64 GB)</td>\n",
              "      <td>4</td>\n",
              "      <td>64</td>\n",
              "      <td>243106</td>\n",
              "      <td>16497</td>\n",
              "      <td>4.5</td>\n",
              "      <td>10999</td>\n",
              "      <td>10999</td>\n",
              "    </tr>\n",
              "    <tr>\n",
              "      <th>2</th>\n",
              "      <td>9</td>\n",
              "      <td>Realme 5i (Aqua Blue, 64 GB)</td>\n",
              "      <td>4</td>\n",
              "      <td>64</td>\n",
              "      <td>243106</td>\n",
              "      <td>16497</td>\n",
              "      <td>4.5</td>\n",
              "      <td>10999</td>\n",
              "      <td>10999</td>\n",
              "    </tr>\n",
              "    <tr>\n",
              "      <th>3</th>\n",
              "      <td>10</td>\n",
              "      <td>Redmi 8 (Sapphire Blue, 64 GB)</td>\n",
              "      <td>4</td>\n",
              "      <td>32</td>\n",
              "      <td>674638</td>\n",
              "      <td>50064</td>\n",
              "      <td>4.4</td>\n",
              "      <td>10999</td>\n",
              "      <td>9999</td>\n",
              "    </tr>\n",
              "    <tr>\n",
              "      <th>4</th>\n",
              "      <td>8</td>\n",
              "      <td>POCO X2 (Matrix Purple, 128 GB)</td>\n",
              "      <td>6</td>\n",
              "      <td>64</td>\n",
              "      <td>133486</td>\n",
              "      <td>14732</td>\n",
              "      <td>4.5</td>\n",
              "      <td>19999</td>\n",
              "      <td>18499</td>\n",
              "    </tr>\n",
              "  </tbody>\n",
              "</table>\n",
              "</div>\n",
              "    <div class=\"colab-df-buttons\">\n",
              "\n",
              "  <div class=\"colab-df-container\">\n",
              "    <button class=\"colab-df-convert\" onclick=\"convertToInteractive('df-76fd881c-c362-471f-a792-dd8767b298b9')\"\n",
              "            title=\"Convert this dataframe to an interactive table.\"\n",
              "            style=\"display:none;\">\n",
              "\n",
              "  <svg xmlns=\"http://www.w3.org/2000/svg\" height=\"24px\" viewBox=\"0 -960 960 960\">\n",
              "    <path d=\"M120-120v-720h720v720H120Zm60-500h600v-160H180v160Zm220 220h160v-160H400v160Zm0 220h160v-160H400v160ZM180-400h160v-160H180v160Zm440 0h160v-160H620v160ZM180-180h160v-160H180v160Zm440 0h160v-160H620v160Z\"/>\n",
              "  </svg>\n",
              "    </button>\n",
              "\n",
              "  <style>\n",
              "    .colab-df-container {\n",
              "      display:flex;\n",
              "      gap: 12px;\n",
              "    }\n",
              "\n",
              "    .colab-df-convert {\n",
              "      background-color: #E8F0FE;\n",
              "      border: none;\n",
              "      border-radius: 50%;\n",
              "      cursor: pointer;\n",
              "      display: none;\n",
              "      fill: #1967D2;\n",
              "      height: 32px;\n",
              "      padding: 0 0 0 0;\n",
              "      width: 32px;\n",
              "    }\n",
              "\n",
              "    .colab-df-convert:hover {\n",
              "      background-color: #E2EBFA;\n",
              "      box-shadow: 0px 1px 2px rgba(60, 64, 67, 0.3), 0px 1px 3px 1px rgba(60, 64, 67, 0.15);\n",
              "      fill: #174EA6;\n",
              "    }\n",
              "\n",
              "    .colab-df-buttons div {\n",
              "      margin-bottom: 4px;\n",
              "    }\n",
              "\n",
              "    [theme=dark] .colab-df-convert {\n",
              "      background-color: #3B4455;\n",
              "      fill: #D2E3FC;\n",
              "    }\n",
              "\n",
              "    [theme=dark] .colab-df-convert:hover {\n",
              "      background-color: #434B5C;\n",
              "      box-shadow: 0px 1px 3px 1px rgba(0, 0, 0, 0.15);\n",
              "      filter: drop-shadow(0px 1px 2px rgba(0, 0, 0, 0.3));\n",
              "      fill: #FFFFFF;\n",
              "    }\n",
              "  </style>\n",
              "\n",
              "    <script>\n",
              "      const buttonEl =\n",
              "        document.querySelector('#df-76fd881c-c362-471f-a792-dd8767b298b9 button.colab-df-convert');\n",
              "      buttonEl.style.display =\n",
              "        google.colab.kernel.accessAllowed ? 'block' : 'none';\n",
              "\n",
              "      async function convertToInteractive(key) {\n",
              "        const element = document.querySelector('#df-76fd881c-c362-471f-a792-dd8767b298b9');\n",
              "        const dataTable =\n",
              "          await google.colab.kernel.invokeFunction('convertToInteractive',\n",
              "                                                    [key], {});\n",
              "        if (!dataTable) return;\n",
              "\n",
              "        const docLinkHtml = 'Like what you see? Visit the ' +\n",
              "          '<a target=\"_blank\" href=https://colab.research.google.com/notebooks/data_table.ipynb>data table notebook</a>'\n",
              "          + ' to learn more about interactive tables.';\n",
              "        element.innerHTML = '';\n",
              "        dataTable['output_type'] = 'display_data';\n",
              "        await google.colab.output.renderOutput(dataTable, element);\n",
              "        const docLink = document.createElement('div');\n",
              "        docLink.innerHTML = docLinkHtml;\n",
              "        element.appendChild(docLink);\n",
              "      }\n",
              "    </script>\n",
              "  </div>\n",
              "\n",
              "\n",
              "<div id=\"df-7d750990-5ef0-42ad-9863-b54b83182a83\">\n",
              "  <button class=\"colab-df-quickchart\" onclick=\"quickchart('df-7d750990-5ef0-42ad-9863-b54b83182a83')\"\n",
              "            title=\"Suggest charts.\"\n",
              "            style=\"display:none;\">\n",
              "\n",
              "<svg xmlns=\"http://www.w3.org/2000/svg\" height=\"24px\"viewBox=\"0 0 24 24\"\n",
              "     width=\"24px\">\n",
              "    <g>\n",
              "        <path d=\"M19 3H5c-1.1 0-2 .9-2 2v14c0 1.1.9 2 2 2h14c1.1 0 2-.9 2-2V5c0-1.1-.9-2-2-2zM9 17H7v-7h2v7zm4 0h-2V7h2v10zm4 0h-2v-4h2v4z\"/>\n",
              "    </g>\n",
              "</svg>\n",
              "  </button>\n",
              "\n",
              "<style>\n",
              "  .colab-df-quickchart {\n",
              "      --bg-color: #E8F0FE;\n",
              "      --fill-color: #1967D2;\n",
              "      --hover-bg-color: #E2EBFA;\n",
              "      --hover-fill-color: #174EA6;\n",
              "      --disabled-fill-color: #AAA;\n",
              "      --disabled-bg-color: #DDD;\n",
              "  }\n",
              "\n",
              "  [theme=dark] .colab-df-quickchart {\n",
              "      --bg-color: #3B4455;\n",
              "      --fill-color: #D2E3FC;\n",
              "      --hover-bg-color: #434B5C;\n",
              "      --hover-fill-color: #FFFFFF;\n",
              "      --disabled-bg-color: #3B4455;\n",
              "      --disabled-fill-color: #666;\n",
              "  }\n",
              "\n",
              "  .colab-df-quickchart {\n",
              "    background-color: var(--bg-color);\n",
              "    border: none;\n",
              "    border-radius: 50%;\n",
              "    cursor: pointer;\n",
              "    display: none;\n",
              "    fill: var(--fill-color);\n",
              "    height: 32px;\n",
              "    padding: 0;\n",
              "    width: 32px;\n",
              "  }\n",
              "\n",
              "  .colab-df-quickchart:hover {\n",
              "    background-color: var(--hover-bg-color);\n",
              "    box-shadow: 0 1px 2px rgba(60, 64, 67, 0.3), 0 1px 3px 1px rgba(60, 64, 67, 0.15);\n",
              "    fill: var(--button-hover-fill-color);\n",
              "  }\n",
              "\n",
              "  .colab-df-quickchart-complete:disabled,\n",
              "  .colab-df-quickchart-complete:disabled:hover {\n",
              "    background-color: var(--disabled-bg-color);\n",
              "    fill: var(--disabled-fill-color);\n",
              "    box-shadow: none;\n",
              "  }\n",
              "\n",
              "  .colab-df-spinner {\n",
              "    border: 2px solid var(--fill-color);\n",
              "    border-color: transparent;\n",
              "    border-bottom-color: var(--fill-color);\n",
              "    animation:\n",
              "      spin 1s steps(1) infinite;\n",
              "  }\n",
              "\n",
              "  @keyframes spin {\n",
              "    0% {\n",
              "      border-color: transparent;\n",
              "      border-bottom-color: var(--fill-color);\n",
              "      border-left-color: var(--fill-color);\n",
              "    }\n",
              "    20% {\n",
              "      border-color: transparent;\n",
              "      border-left-color: var(--fill-color);\n",
              "      border-top-color: var(--fill-color);\n",
              "    }\n",
              "    30% {\n",
              "      border-color: transparent;\n",
              "      border-left-color: var(--fill-color);\n",
              "      border-top-color: var(--fill-color);\n",
              "      border-right-color: var(--fill-color);\n",
              "    }\n",
              "    40% {\n",
              "      border-color: transparent;\n",
              "      border-right-color: var(--fill-color);\n",
              "      border-top-color: var(--fill-color);\n",
              "    }\n",
              "    60% {\n",
              "      border-color: transparent;\n",
              "      border-right-color: var(--fill-color);\n",
              "    }\n",
              "    80% {\n",
              "      border-color: transparent;\n",
              "      border-right-color: var(--fill-color);\n",
              "      border-bottom-color: var(--fill-color);\n",
              "    }\n",
              "    90% {\n",
              "      border-color: transparent;\n",
              "      border-bottom-color: var(--fill-color);\n",
              "    }\n",
              "  }\n",
              "</style>\n",
              "\n",
              "  <script>\n",
              "    async function quickchart(key) {\n",
              "      const quickchartButtonEl =\n",
              "        document.querySelector('#' + key + ' button');\n",
              "      quickchartButtonEl.disabled = true;  // To prevent multiple clicks.\n",
              "      quickchartButtonEl.classList.add('colab-df-spinner');\n",
              "      try {\n",
              "        const charts = await google.colab.kernel.invokeFunction(\n",
              "            'suggestCharts', [key], {});\n",
              "      } catch (error) {\n",
              "        console.error('Error during call to suggestCharts:', error);\n",
              "      }\n",
              "      quickchartButtonEl.classList.remove('colab-df-spinner');\n",
              "      quickchartButtonEl.classList.add('colab-df-quickchart-complete');\n",
              "    }\n",
              "    (() => {\n",
              "      let quickchartButtonEl =\n",
              "        document.querySelector('#df-7d750990-5ef0-42ad-9863-b54b83182a83 button');\n",
              "      quickchartButtonEl.style.display =\n",
              "        google.colab.kernel.accessAllowed ? 'block' : 'none';\n",
              "    })();\n",
              "  </script>\n",
              "</div>\n",
              "    </div>\n",
              "  </div>\n"
            ]
          },
          "metadata": {},
          "execution_count": 19
        }
      ]
    },
    {
      "cell_type": "markdown",
      "source": [
        "### Pregunta 2\n",
        "Haz un `merge` de ambos **data frames**, para generar un nuevo **data frame** que incluya los datos de `df_modelos` y `df_marcas`. Tu nuevo **data frame** recibirá el nombre de `df`.\n",
        "\n",
        "**Pista**: Ambos archivos tienen una columna que los relaciona, llamada `ID Marca`."
      ],
      "metadata": {
        "id": "cfoZq-nr2OkO"
      }
    },
    {
      "cell_type": "code",
      "source": [],
      "metadata": {
        "id": "S1L6Hn8VF2_v"
      },
      "execution_count": null,
      "outputs": []
    },
    {
      "cell_type": "markdown",
      "source": [
        "### Pregunta 3\n",
        "Muestra las primeras cinco filas, las últimas cinco y el nombre de todas las columnas."
      ],
      "metadata": {
        "id": "AqDaTcfaTC79"
      }
    },
    {
      "cell_type": "code",
      "source": [],
      "metadata": {
        "id": "AYPcw8cLF361"
      },
      "execution_count": null,
      "outputs": []
    },
    {
      "cell_type": "markdown",
      "source": [
        "### Pregunta 4\n",
        "Utiliza los filtros para mostrar todos los teléfonos con 64GB en la columna `ROM_GB` e indica cuántos del listado poseen esta característica."
      ],
      "metadata": {
        "id": "m2HobjRsTz7V"
      }
    },
    {
      "cell_type": "code",
      "source": [],
      "metadata": {
        "id": "-yfgYqiZF4yS"
      },
      "execution_count": null,
      "outputs": []
    },
    {
      "cell_type": "markdown",
      "source": [
        "### Pregunta 5\n",
        "Haz un histograma (`hist`) de la columna `ROM_GB` del **data frame** `df`.\n",
        "\n",
        "El gráfico debe incluir un título y las columnas tener un color personalizado."
      ],
      "metadata": {
        "id": "tfXR1-kf_WQd"
      }
    },
    {
      "cell_type": "code",
      "source": [],
      "metadata": {
        "id": "Dfk9NBLQGGb3"
      },
      "execution_count": null,
      "outputs": []
    },
    {
      "cell_type": "markdown",
      "source": [
        "### Pregunta 6\n",
        "Haz un diagrama de dispersión (`scatter`) con las siguientes características: el eje X deberá indicar el contenido de la columna `Precio de lista`, mientras que el eje Y expresará el contenido de la columna `Precio de venta`.\n",
        "\n",
        "El diagrama debe incluir un título y los puntos tener un color personalizado."
      ],
      "metadata": {
        "id": "U8QOkYQnBCDY"
      }
    },
    {
      "cell_type": "code",
      "source": [],
      "metadata": {
        "id": "ttIgS7LAGHDm"
      },
      "execution_count": null,
      "outputs": []
    },
    {
      "cell_type": "markdown",
      "source": [
        "### Pregunta 7\n",
        "\n",
        "Con base en el diagrama de la **pregunta 6**, responde la siguiente pregunta: ¿A qué conclusión podrías llegar si observas únicamente la gráfica?"
      ],
      "metadata": {
        "id": "qWHZAMi2DZos"
      }
    },
    {
      "cell_type": "markdown",
      "source": [],
      "metadata": {
        "id": "Aql08i4fGIxs"
      }
    },
    {
      "cell_type": "markdown",
      "source": [
        "### Pregunta 8\n",
        "Utiliza el código para obtener la siguiente información (ubicada en `df`).\n",
        "\n",
        "- Promedio de los precios de venta de los modelos marca **Realme**\n",
        "- Máximo de estrellas de los modelos marca **Redmi**\n",
        "- Mínimo de Estrellas de los modelos marca **Redmi**"
      ],
      "metadata": {
        "id": "3H4LtqjhEGME"
      }
    },
    {
      "cell_type": "code",
      "source": [],
      "metadata": {
        "id": "8AApDz1dGKQr"
      },
      "execution_count": null,
      "outputs": []
    },
    {
      "cell_type": "markdown",
      "source": [
        "### Pregunta 9\n",
        "Utiliza un **Groupby** para mostrar la cantidad de estrellas promedio que cada marca tiene en `df`."
      ],
      "metadata": {
        "id": "ds4EGI0SHEKB"
      }
    },
    {
      "cell_type": "code",
      "source": [],
      "metadata": {
        "id": "U_iMhR_gGLBV"
      },
      "execution_count": null,
      "outputs": []
    },
    {
      "cell_type": "markdown",
      "source": [
        "### Pregunta 10\n",
        "¿Qué otro dato puedes obtener de `df` y cómo lo extraerías?"
      ],
      "metadata": {
        "id": "ALRDH3eRHkZN"
      }
    },
    {
      "cell_type": "code",
      "source": [],
      "metadata": {
        "id": "9HUy8LdgGLvM"
      },
      "execution_count": null,
      "outputs": []
    }
  ]
}