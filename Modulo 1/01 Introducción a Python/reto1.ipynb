{
 "cells": [
  {
   "cell_type": "code",
   "execution_count": null,
   "metadata": {},
   "outputs": [],
   "source": []
  },
  {
   "cell_type": "code",
   "execution_count": 4,
   "metadata": {},
   "outputs": [
    {
     "name": "stdout",
     "output_type": "stream",
     "text": [
      "Paquete completo:  7\n",
      "Cantidad completo:  6\n",
      "Ganancia:  510\n"
     ]
    }
   ],
   "source": [
    "#Esta parte son las variable\n",
    "precio_dia = 85\n",
    "paquete = 7\n",
    "pantalones = 55\n",
    "\n",
    "#Esta parte son las operaciones\n",
    "cantidad_paquetes = pantalones // paquete\n",
    "resago = pantalones % paquete\n",
    "ganancia = resago * precio_dia\n",
    "\n",
    "#Esta parte son los resultados\n",
    "print(\"Paquete completo: \",cantidad_paquetes)\n",
    "print(\"Cantidad completo: \",resago)\n",
    "print(\"Ganancia: \",ganancia)\n"
   ]
  }
 ],
 "metadata": {
  "kernelspec": {
   "display_name": "Python 3",
   "language": "python",
   "name": "python3"
  },
  "language_info": {
   "codemirror_mode": {
    "name": "ipython",
    "version": 3
   },
   "file_extension": ".py",
   "mimetype": "text/x-python",
   "name": "python",
   "nbconvert_exporter": "python",
   "pygments_lexer": "ipython3",
   "version": "3.11.4"
  },
  "orig_nbformat": 4
 },
 "nbformat": 4,
 "nbformat_minor": 2
}
