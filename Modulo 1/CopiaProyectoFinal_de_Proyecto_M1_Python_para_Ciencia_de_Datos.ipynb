{
  "cells": [
    {
      "cell_type": "markdown",
      "metadata": {
        "id": "fR3jvxoWv9WN"
      },
      "source": [
        "# **Bootcamp Ciencia de Datos e Inteligencia Artificial**\n",
        "# **Proyecto Módulo 1. Python para Ciencia de Datos**\n",
        "\n"
      ]
    },
    {
      "cell_type": "markdown",
      "metadata": {
        "id": "MHW9subLIsg5"
      },
      "source": [
        "## Introducción\n",
        "\n",
        "Has aprendido lo más elemental en tu camino para convertirte en un científico de datos y estás preparado para afrontar una de las actividades más comunes del trabajo cotidiano de un _data scientist_; es decir, revisar y analizar información solicitada por algún cliente.  \n",
        "\n",
        "Este proyecto representa un desafío que tomará algo de tiempo, de manera que necesitarás mucha concentración y persistencia; sin embargo, eres completamente capaz de resolverlo. Así, en cuestión de semanas notarás la facilidad con que realizas este tipo de actividades."
      ]
    },
    {
      "cell_type": "markdown",
      "metadata": {
        "id": "PRIEEm01JYpW"
      },
      "source": [
        "## Demo\n",
        "\n",
        "Este documento te servirá como inspiración para crear el tuyo: https://drive.google.com/file/d/1HH_aauW-84bnoBcooZtT7hRN4bFT5uB8/view?usp=sharing"
      ]
    },
    {
      "cell_type": "markdown",
      "metadata": {
        "id": "ozrD68J_KHMc"
      },
      "source": [
        "## ¿Qué construirás?\n",
        "\n",
        "Un documento de Google Colaboratory que funja como introducción a las actividades más comunes de tu labor cotidiana. Considera que este trabajo se convertirá en una guía para los módulos siguientes, dado que practicarás las habilidades básicas necesarias para implementar un modelo."
      ]
    },
    {
      "cell_type": "markdown",
      "metadata": {
        "id": "ax8X7ytUKsrg"
      },
      "source": [
        "## Objetivos\n",
        "\n",
        "El participante:\n",
        "\n",
        "- Se familiarizará con la estructura del lenguaje **Python** enfocada en la ciencia de datos.\n",
        "- Comprenderá que cada proyecto solicitado poseerá distintas características (gráficos de un cierto tipo o diseño, algunos datos estadísticos, entre otros).\n",
        "- Entenderá que algunos datos se interpretan mejor al utilizar determinadas herramientas, tales como **Pandas**, **Numpy** y **Matplotlib**.\n",
        "- Asimilará la manera de estructurar la información que requiera analizar."
      ]
    },
    {
      "cell_type": "markdown",
      "metadata": {
        "id": "TI8jx-y3Exg1"
      },
      "source": [
        "## Requisitos\n",
        "\n",
        "- El proyecto se entregará en forma individual.\n",
        "- Cada participante deberá completar el archivo de **Google Colab** ubicado en su **Google Drive** personal. Al finalizar, compartirá el enlace en el espacio designado en **Teams**."
      ]
    },
    {
      "cell_type": "markdown",
      "metadata": {
        "id": "R_kZ2D4v0u9X"
      },
      "source": [
        "## Entregables\n",
        "\n",
        "Cada participante hará una copia del presente documento y la guardará en su **Google Drive** personal.\n",
        "\n",
        "Leerá cada una de las preguntas y responderá utilizando bloques de código (a excepción de la pregunta 7, que podrá responderse con un bloque de texto).\n",
        "\n",
        "Los resultados deberán ser inteligibles y se recomienda utilizar funciones como `print` para dar claridad a las respuestas.\n",
        "\n",
        "Es posible investigar soluciones en otras fuentes o recurrir a clases anteriores; sin embargo, el estudiante debe comprender lo escrito en código.\n",
        "\n",
        "Algunas respuestas tienen diversas formas de resolverse, no obstante, debe existir precisión en el código escrito y en el propósito que persigue.\n",
        "\n",
        "¡Comencemos!\n"
      ]
    },
    {
      "cell_type": "code",
      "execution_count": null,
      "metadata": {},
      "outputs": [],
      "source": [
        "from google.colab import drive\n",
        "drive.mount('/content/drive')"
      ]
    },
    {
      "cell_type": "code",
      "execution_count": 3,
      "metadata": {
        "id": "LjNwIEwZN8nP"
      },
      "outputs": [],
      "source": [
        "import pandas as pd\n",
        "import numpy as np\n",
        "import matplotlib.pyplot as plt #No quitar"
      ]
    },
    {
      "cell_type": "markdown",
      "metadata": {
        "id": "IksPNalDSH7R"
      },
      "source": [
        "### Pregunta 1\n",
        "Descarga los siguientes archivos:\n",
        "- Este archivo csv enlista diferentes celulares y una serie de calificaciones de distintos usuarios: https://drive.google.com/file/d/1atasE-fuDyAt8Z7JGZQroKJwjNkbpyrn/view?usp=sharing\n",
        "- Este documento csv incluye un listado de las marcas de dichos teléfonos celulares: https://drive.google.com/file/d/1ICBvPkSVajVVMHyrMABYiwuwefv_3oPJ/view?usp=sharing\n",
        "\n",
        "Sube estos archivos en un **Google Drive** y con `pd.read_csv` nómbralos como `df_modelos` y `df_marcas`.\n",
        "\n",
        "Indica en un solo código el número de filas que tiene el archivo `df_modelos` que creaste.\n",
        "\n"
      ]
    },
    {
      "cell_type": "code",
      "execution_count": 4,
      "metadata": {
        "id": "OTVy-_h8R3Wk"
      },
      "outputs": [],
      "source": [
        "df_modelos = pd.read_csv('/Users/andreblass/Documents/Python/Ucamp/Modelos.csv', encoding='latin1')"
      ]
    },
    {
      "cell_type": "code",
      "execution_count": 6,
      "metadata": {
        "id": "YKDZypl2ujhX"
      },
      "outputs": [],
      "source": [
        "df_marcas = pd.read_csv('/Users/andreblass/Documents/Python/Ucamp/Marcas.csv')"
      ]
    },
    {
      "cell_type": "code",
      "execution_count": 7,
      "metadata": {},
      "outputs": [
        {
          "data": {
            "text/html": [
              "<div>\n",
              "<style scoped>\n",
              "    .dataframe tbody tr th:only-of-type {\n",
              "        vertical-align: middle;\n",
              "    }\n",
              "\n",
              "    .dataframe tbody tr th {\n",
              "        vertical-align: top;\n",
              "    }\n",
              "\n",
              "    .dataframe thead th {\n",
              "        text-align: right;\n",
              "    }\n",
              "</style>\n",
              "<table border=\"1\" class=\"dataframe\">\n",
              "  <thead>\n",
              "    <tr style=\"text-align: right;\">\n",
              "      <th></th>\n",
              "      <th>ID Marca</th>\n",
              "      <th>Nombre Marca</th>\n",
              "    </tr>\n",
              "  </thead>\n",
              "  <tbody>\n",
              "    <tr>\n",
              "      <th>0</th>\n",
              "      <td>1</td>\n",
              "      <td>Apple</td>\n",
              "    </tr>\n",
              "    <tr>\n",
              "      <th>1</th>\n",
              "      <td>2</td>\n",
              "      <td>I Kall</td>\n",
              "    </tr>\n",
              "    <tr>\n",
              "      <th>2</th>\n",
              "      <td>3</td>\n",
              "      <td>Infinix</td>\n",
              "    </tr>\n",
              "    <tr>\n",
              "      <th>3</th>\n",
              "      <td>4</td>\n",
              "      <td>Lava</td>\n",
              "    </tr>\n",
              "    <tr>\n",
              "      <th>4</th>\n",
              "      <td>5</td>\n",
              "      <td>Motorola</td>\n",
              "    </tr>\n",
              "  </tbody>\n",
              "</table>\n",
              "</div>"
            ],
            "text/plain": [
              "   ID Marca Nombre Marca\n",
              "0         1        Apple\n",
              "1         2       I Kall\n",
              "2         3      Infinix\n",
              "3         4         Lava\n",
              "4         5     Motorola"
            ]
          },
          "execution_count": 7,
          "metadata": {},
          "output_type": "execute_result"
        }
      ],
      "source": [
        "df_marcas.head()\n"
      ]
    },
    {
      "cell_type": "code",
      "execution_count": 8,
      "metadata": {
        "colab": {
          "base_uri": "https://localhost:8080/",
          "height": 276
        },
        "id": "IdeLjQcBONg4",
        "outputId": "0cd4edfb-5606-420f-fc10-c5b94fdb7d40"
      },
      "outputs": [
        {
          "data": {
            "text/html": [
              "<div>\n",
              "<style scoped>\n",
              "    .dataframe tbody tr th:only-of-type {\n",
              "        vertical-align: middle;\n",
              "    }\n",
              "\n",
              "    .dataframe tbody tr th {\n",
              "        vertical-align: top;\n",
              "    }\n",
              "\n",
              "    .dataframe thead th {\n",
              "        text-align: right;\n",
              "    }\n",
              "</style>\n",
              "<table border=\"1\" class=\"dataframe\">\n",
              "  <thead>\n",
              "    <tr style=\"text-align: right;\">\n",
              "      <th></th>\n",
              "      <th>ID Marca</th>\n",
              "      <th>Modelo</th>\n",
              "      <th>RAM_GB</th>\n",
              "      <th>ROM_GB</th>\n",
              "      <th>Calificaciones</th>\n",
              "      <th>Reseas</th>\n",
              "      <th>Estrellas</th>\n",
              "      <th>Precio de lista</th>\n",
              "      <th>Precio de venta</th>\n",
              "    </tr>\n",
              "  </thead>\n",
              "  <tbody>\n",
              "    <tr>\n",
              "      <th>0</th>\n",
              "      <td>10</td>\n",
              "      <td>Redmi 8 (Onyx Black, 64 GB)</td>\n",
              "      <td>4</td>\n",
              "      <td>64</td>\n",
              "      <td>674638</td>\n",
              "      <td>50064</td>\n",
              "      <td>4.4</td>\n",
              "      <td>10999</td>\n",
              "      <td>9999</td>\n",
              "    </tr>\n",
              "    <tr>\n",
              "      <th>1</th>\n",
              "      <td>9</td>\n",
              "      <td>Realme 5i (Forest Green, 64 GB)</td>\n",
              "      <td>4</td>\n",
              "      <td>64</td>\n",
              "      <td>243106</td>\n",
              "      <td>16497</td>\n",
              "      <td>4.5</td>\n",
              "      <td>10999</td>\n",
              "      <td>10999</td>\n",
              "    </tr>\n",
              "    <tr>\n",
              "      <th>2</th>\n",
              "      <td>9</td>\n",
              "      <td>Realme 5i (Aqua Blue, 64 GB)</td>\n",
              "      <td>4</td>\n",
              "      <td>64</td>\n",
              "      <td>243106</td>\n",
              "      <td>16497</td>\n",
              "      <td>4.5</td>\n",
              "      <td>10999</td>\n",
              "      <td>10999</td>\n",
              "    </tr>\n",
              "    <tr>\n",
              "      <th>3</th>\n",
              "      <td>10</td>\n",
              "      <td>Redmi 8 (Sapphire Blue, 64 GB)</td>\n",
              "      <td>4</td>\n",
              "      <td>32</td>\n",
              "      <td>674638</td>\n",
              "      <td>50064</td>\n",
              "      <td>4.4</td>\n",
              "      <td>10999</td>\n",
              "      <td>9999</td>\n",
              "    </tr>\n",
              "    <tr>\n",
              "      <th>4</th>\n",
              "      <td>8</td>\n",
              "      <td>POCO X2 (Matrix Purple, 128 GB)</td>\n",
              "      <td>6</td>\n",
              "      <td>64</td>\n",
              "      <td>133486</td>\n",
              "      <td>14732</td>\n",
              "      <td>4.5</td>\n",
              "      <td>19999</td>\n",
              "      <td>18499</td>\n",
              "    </tr>\n",
              "  </tbody>\n",
              "</table>\n",
              "</div>"
            ],
            "text/plain": [
              "   ID Marca                           Modelo  RAM_GB  ROM_GB  Calificaciones  \\\n",
              "0        10      Redmi 8 (Onyx Black, 64 GB)       4      64          674638   \n",
              "1         9  Realme 5i (Forest Green, 64 GB)       4      64          243106   \n",
              "2         9     Realme 5i (Aqua Blue, 64 GB)       4      64          243106   \n",
              "3        10   Redmi 8 (Sapphire Blue, 64 GB)       4      32          674638   \n",
              "4         8  POCO X2 (Matrix Purple, 128 GB)       6      64          133486   \n",
              "\n",
              "   Reseas  Estrellas  Precio de lista  Precio de venta  \n",
              "0    50064        4.4            10999             9999  \n",
              "1    16497        4.5            10999            10999  \n",
              "2    16497        4.5            10999            10999  \n",
              "3    50064        4.4            10999             9999  \n",
              "4    14732        4.5            19999            18499  "
            ]
          },
          "execution_count": 8,
          "metadata": {},
          "output_type": "execute_result"
        }
      ],
      "source": [
        "df_modelos.head()\n"
      ]
    },
    {
      "cell_type": "markdown",
      "metadata": {
        "id": "cfoZq-nr2OkO"
      },
      "source": [
        "### Pregunta 2\n",
        "Haz un `merge` de ambos **data frames**, para generar un nuevo **data frame** que incluya los datos de `df_modelos` y `df_marcas`. Tu nuevo **data frame** recibirá el nombre de `df`.\n",
        "\n",
        "**Pista**: Ambos archivos tienen una columna que los relaciona, llamada `ID Marca`."
      ]
    },
    {
      "cell_type": "code",
      "execution_count": 9,
      "metadata": {
        "id": "S1L6Hn8VF2_v"
      },
      "outputs": [
        {
          "data": {
            "text/html": [
              "<div>\n",
              "<style scoped>\n",
              "    .dataframe tbody tr th:only-of-type {\n",
              "        vertical-align: middle;\n",
              "    }\n",
              "\n",
              "    .dataframe tbody tr th {\n",
              "        vertical-align: top;\n",
              "    }\n",
              "\n",
              "    .dataframe thead th {\n",
              "        text-align: right;\n",
              "    }\n",
              "</style>\n",
              "<table border=\"1\" class=\"dataframe\">\n",
              "  <thead>\n",
              "    <tr style=\"text-align: right;\">\n",
              "      <th></th>\n",
              "      <th>ID Marca</th>\n",
              "      <th>Modelo</th>\n",
              "      <th>RAM_GB</th>\n",
              "      <th>ROM_GB</th>\n",
              "      <th>Calificaciones</th>\n",
              "      <th>Reseas</th>\n",
              "      <th>Estrellas</th>\n",
              "      <th>Precio de lista</th>\n",
              "      <th>Precio de venta</th>\n",
              "      <th>Nombre Marca</th>\n",
              "    </tr>\n",
              "  </thead>\n",
              "  <tbody>\n",
              "    <tr>\n",
              "      <th>0</th>\n",
              "      <td>1</td>\n",
              "      <td>Apple iPhone XR (Black, 64 GB)</td>\n",
              "      <td>0</td>\n",
              "      <td>32</td>\n",
              "      <td>11572</td>\n",
              "      <td>975</td>\n",
              "      <td>4.6</td>\n",
              "      <td>52500</td>\n",
              "      <td>46999</td>\n",
              "      <td>Apple</td>\n",
              "    </tr>\n",
              "    <tr>\n",
              "      <th>1</th>\n",
              "      <td>1</td>\n",
              "      <td>Apple iPhone SE (White, 64 GB)</td>\n",
              "      <td>0</td>\n",
              "      <td>64</td>\n",
              "      <td>12954</td>\n",
              "      <td>1298</td>\n",
              "      <td>4.5</td>\n",
              "      <td>42500</td>\n",
              "      <td>40999</td>\n",
              "      <td>Apple</td>\n",
              "    </tr>\n",
              "    <tr>\n",
              "      <th>2</th>\n",
              "      <td>1</td>\n",
              "      <td>Apple iPhone SE (Black, 64 GB)</td>\n",
              "      <td>0</td>\n",
              "      <td>32</td>\n",
              "      <td>12954</td>\n",
              "      <td>1298</td>\n",
              "      <td>4.5</td>\n",
              "      <td>42500</td>\n",
              "      <td>40999</td>\n",
              "      <td>Apple</td>\n",
              "    </tr>\n",
              "    <tr>\n",
              "      <th>3</th>\n",
              "      <td>1</td>\n",
              "      <td>Apple iPhone XR ((PRODUCT)RED, 64 GB)</td>\n",
              "      <td>0</td>\n",
              "      <td>64</td>\n",
              "      <td>11572</td>\n",
              "      <td>975</td>\n",
              "      <td>4.6</td>\n",
              "      <td>52500</td>\n",
              "      <td>46999</td>\n",
              "      <td>Apple</td>\n",
              "    </tr>\n",
              "    <tr>\n",
              "      <th>4</th>\n",
              "      <td>1</td>\n",
              "      <td>Apple iPhone SE (Red, 64 GB)</td>\n",
              "      <td>0</td>\n",
              "      <td>128</td>\n",
              "      <td>12954</td>\n",
              "      <td>1298</td>\n",
              "      <td>4.5</td>\n",
              "      <td>42500</td>\n",
              "      <td>40999</td>\n",
              "      <td>Apple</td>\n",
              "    </tr>\n",
              "    <tr>\n",
              "      <th>...</th>\n",
              "      <td>...</td>\n",
              "      <td>...</td>\n",
              "      <td>...</td>\n",
              "      <td>...</td>\n",
              "      <td>...</td>\n",
              "      <td>...</td>\n",
              "      <td>...</td>\n",
              "      <td>...</td>\n",
              "      <td>...</td>\n",
              "      <td>...</td>\n",
              "    </tr>\n",
              "    <tr>\n",
              "      <th>115</th>\n",
              "      <td>12</td>\n",
              "      <td>Vivo Y91i (Fusion Black, 32 GB)</td>\n",
              "      <td>2</td>\n",
              "      <td>128</td>\n",
              "      <td>21196</td>\n",
              "      <td>1445</td>\n",
              "      <td>4.3</td>\n",
              "      <td>9990</td>\n",
              "      <td>7990</td>\n",
              "      <td>Vivo</td>\n",
              "    </tr>\n",
              "    <tr>\n",
              "      <th>116</th>\n",
              "      <td>12</td>\n",
              "      <td>Vivo Y91i (Ocean Blue, 32 GB)</td>\n",
              "      <td>2</td>\n",
              "      <td>128</td>\n",
              "      <td>21196</td>\n",
              "      <td>1445</td>\n",
              "      <td>4.3</td>\n",
              "      <td>9990</td>\n",
              "      <td>7990</td>\n",
              "      <td>Vivo</td>\n",
              "    </tr>\n",
              "    <tr>\n",
              "      <th>117</th>\n",
              "      <td>12</td>\n",
              "      <td>Vivo S1 Pro (Mystic Black, 128 GB)</td>\n",
              "      <td>8</td>\n",
              "      <td>128</td>\n",
              "      <td>11571</td>\n",
              "      <td>891</td>\n",
              "      <td>4.4</td>\n",
              "      <td>20990</td>\n",
              "      <td>19990</td>\n",
              "      <td>Vivo</td>\n",
              "    </tr>\n",
              "    <tr>\n",
              "      <th>118</th>\n",
              "      <td>12</td>\n",
              "      <td>Vivo Y30 (Emerald Black, 128 GB)</td>\n",
              "      <td>4</td>\n",
              "      <td>32</td>\n",
              "      <td>604</td>\n",
              "      <td>44</td>\n",
              "      <td>4.3</td>\n",
              "      <td>18990</td>\n",
              "      <td>14990</td>\n",
              "      <td>Vivo</td>\n",
              "    </tr>\n",
              "    <tr>\n",
              "      <th>119</th>\n",
              "      <td>12</td>\n",
              "      <td>Vivo Y30 (Dazzle Blue, 128 GB)</td>\n",
              "      <td>4</td>\n",
              "      <td>128</td>\n",
              "      <td>604</td>\n",
              "      <td>44</td>\n",
              "      <td>4.3</td>\n",
              "      <td>18990</td>\n",
              "      <td>14990</td>\n",
              "      <td>Vivo</td>\n",
              "    </tr>\n",
              "  </tbody>\n",
              "</table>\n",
              "<p>120 rows × 10 columns</p>\n",
              "</div>"
            ],
            "text/plain": [
              "     ID Marca                                 Modelo  RAM_GB  ROM_GB  \\\n",
              "0           1         Apple iPhone XR (Black, 64 GB)       0      32   \n",
              "1           1         Apple iPhone SE (White, 64 GB)       0      64   \n",
              "2           1         Apple iPhone SE (Black, 64 GB)       0      32   \n",
              "3           1  Apple iPhone XR ((PRODUCT)RED, 64 GB)       0      64   \n",
              "4           1           Apple iPhone SE (Red, 64 GB)       0     128   \n",
              "..        ...                                    ...     ...     ...   \n",
              "115        12        Vivo Y91i (Fusion Black, 32 GB)       2     128   \n",
              "116        12          Vivo Y91i (Ocean Blue, 32 GB)       2     128   \n",
              "117        12     Vivo S1 Pro (Mystic Black, 128 GB)       8     128   \n",
              "118        12       Vivo Y30 (Emerald Black, 128 GB)       4      32   \n",
              "119        12         Vivo Y30 (Dazzle Blue, 128 GB)       4     128   \n",
              "\n",
              "     Calificaciones  Reseas  Estrellas  Precio de lista  Precio de venta  \\\n",
              "0             11572      975        4.6            52500            46999   \n",
              "1             12954     1298        4.5            42500            40999   \n",
              "2             12954     1298        4.5            42500            40999   \n",
              "3             11572      975        4.6            52500            46999   \n",
              "4             12954     1298        4.5            42500            40999   \n",
              "..              ...      ...        ...              ...              ...   \n",
              "115           21196     1445        4.3             9990             7990   \n",
              "116           21196     1445        4.3             9990             7990   \n",
              "117           11571      891        4.4            20990            19990   \n",
              "118             604       44        4.3            18990            14990   \n",
              "119             604       44        4.3            18990            14990   \n",
              "\n",
              "    Nombre Marca  \n",
              "0          Apple  \n",
              "1          Apple  \n",
              "2          Apple  \n",
              "3          Apple  \n",
              "4          Apple  \n",
              "..           ...  \n",
              "115         Vivo  \n",
              "116         Vivo  \n",
              "117         Vivo  \n",
              "118         Vivo  \n",
              "119         Vivo  \n",
              "\n",
              "[120 rows x 10 columns]"
            ]
          },
          "execution_count": 9,
          "metadata": {},
          "output_type": "execute_result"
        }
      ],
      "source": [
        "df = pd.merge(df_modelos, df_marcas, how = 'right', on = 'ID Marca')\n",
        "df"
      ]
    },
    {
      "cell_type": "markdown",
      "metadata": {
        "id": "AqDaTcfaTC79"
      },
      "source": [
        "### Pregunta 3\n",
        "Muestra las primeras cinco filas, las últimas cinco y el nombre de todas las columnas."
      ]
    },
    {
      "cell_type": "code",
      "execution_count": 10,
      "metadata": {
        "id": "AYPcw8cLF361"
      },
      "outputs": [
        {
          "data": {
            "text/html": [
              "<div>\n",
              "<style scoped>\n",
              "    .dataframe tbody tr th:only-of-type {\n",
              "        vertical-align: middle;\n",
              "    }\n",
              "\n",
              "    .dataframe tbody tr th {\n",
              "        vertical-align: top;\n",
              "    }\n",
              "\n",
              "    .dataframe thead th {\n",
              "        text-align: right;\n",
              "    }\n",
              "</style>\n",
              "<table border=\"1\" class=\"dataframe\">\n",
              "  <thead>\n",
              "    <tr style=\"text-align: right;\">\n",
              "      <th></th>\n",
              "      <th>ID Marca</th>\n",
              "      <th>Modelo</th>\n",
              "      <th>RAM_GB</th>\n",
              "      <th>ROM_GB</th>\n",
              "      <th>Calificaciones</th>\n",
              "      <th>Reseas</th>\n",
              "      <th>Estrellas</th>\n",
              "      <th>Precio de lista</th>\n",
              "      <th>Precio de venta</th>\n",
              "      <th>Nombre Marca</th>\n",
              "    </tr>\n",
              "  </thead>\n",
              "  <tbody>\n",
              "    <tr>\n",
              "      <th>0</th>\n",
              "      <td>1</td>\n",
              "      <td>Apple iPhone XR (Black, 64 GB)</td>\n",
              "      <td>0</td>\n",
              "      <td>32</td>\n",
              "      <td>11572</td>\n",
              "      <td>975</td>\n",
              "      <td>4.6</td>\n",
              "      <td>52500</td>\n",
              "      <td>46999</td>\n",
              "      <td>Apple</td>\n",
              "    </tr>\n",
              "    <tr>\n",
              "      <th>1</th>\n",
              "      <td>1</td>\n",
              "      <td>Apple iPhone SE (White, 64 GB)</td>\n",
              "      <td>0</td>\n",
              "      <td>64</td>\n",
              "      <td>12954</td>\n",
              "      <td>1298</td>\n",
              "      <td>4.5</td>\n",
              "      <td>42500</td>\n",
              "      <td>40999</td>\n",
              "      <td>Apple</td>\n",
              "    </tr>\n",
              "    <tr>\n",
              "      <th>2</th>\n",
              "      <td>1</td>\n",
              "      <td>Apple iPhone SE (Black, 64 GB)</td>\n",
              "      <td>0</td>\n",
              "      <td>32</td>\n",
              "      <td>12954</td>\n",
              "      <td>1298</td>\n",
              "      <td>4.5</td>\n",
              "      <td>42500</td>\n",
              "      <td>40999</td>\n",
              "      <td>Apple</td>\n",
              "    </tr>\n",
              "    <tr>\n",
              "      <th>3</th>\n",
              "      <td>1</td>\n",
              "      <td>Apple iPhone XR ((PRODUCT)RED, 64 GB)</td>\n",
              "      <td>0</td>\n",
              "      <td>64</td>\n",
              "      <td>11572</td>\n",
              "      <td>975</td>\n",
              "      <td>4.6</td>\n",
              "      <td>52500</td>\n",
              "      <td>46999</td>\n",
              "      <td>Apple</td>\n",
              "    </tr>\n",
              "    <tr>\n",
              "      <th>4</th>\n",
              "      <td>1</td>\n",
              "      <td>Apple iPhone SE (Red, 64 GB)</td>\n",
              "      <td>0</td>\n",
              "      <td>128</td>\n",
              "      <td>12954</td>\n",
              "      <td>1298</td>\n",
              "      <td>4.5</td>\n",
              "      <td>42500</td>\n",
              "      <td>40999</td>\n",
              "      <td>Apple</td>\n",
              "    </tr>\n",
              "  </tbody>\n",
              "</table>\n",
              "</div>"
            ],
            "text/plain": [
              "   ID Marca                                 Modelo  RAM_GB  ROM_GB  \\\n",
              "0         1         Apple iPhone XR (Black, 64 GB)       0      32   \n",
              "1         1         Apple iPhone SE (White, 64 GB)       0      64   \n",
              "2         1         Apple iPhone SE (Black, 64 GB)       0      32   \n",
              "3         1  Apple iPhone XR ((PRODUCT)RED, 64 GB)       0      64   \n",
              "4         1           Apple iPhone SE (Red, 64 GB)       0     128   \n",
              "\n",
              "   Calificaciones  Reseas  Estrellas  Precio de lista  Precio de venta  \\\n",
              "0           11572      975        4.6            52500            46999   \n",
              "1           12954     1298        4.5            42500            40999   \n",
              "2           12954     1298        4.5            42500            40999   \n",
              "3           11572      975        4.6            52500            46999   \n",
              "4           12954     1298        4.5            42500            40999   \n",
              "\n",
              "  Nombre Marca  \n",
              "0        Apple  \n",
              "1        Apple  \n",
              "2        Apple  \n",
              "3        Apple  \n",
              "4        Apple  "
            ]
          },
          "execution_count": 10,
          "metadata": {},
          "output_type": "execute_result"
        }
      ],
      "source": [
        "df.head(5)"
      ]
    },
    {
      "cell_type": "code",
      "execution_count": 33,
      "metadata": {},
      "outputs": [
        {
          "data": {
            "text/html": [
              "<div>\n",
              "<style scoped>\n",
              "    .dataframe tbody tr th:only-of-type {\n",
              "        vertical-align: middle;\n",
              "    }\n",
              "\n",
              "    .dataframe tbody tr th {\n",
              "        vertical-align: top;\n",
              "    }\n",
              "\n",
              "    .dataframe thead th {\n",
              "        text-align: right;\n",
              "    }\n",
              "</style>\n",
              "<table border=\"1\" class=\"dataframe\">\n",
              "  <thead>\n",
              "    <tr style=\"text-align: right;\">\n",
              "      <th></th>\n",
              "      <th>ID Marca</th>\n",
              "      <th>Modelo</th>\n",
              "      <th>RAM_GB</th>\n",
              "      <th>ROM_GB</th>\n",
              "      <th>Calificaciones</th>\n",
              "      <th>Reseas</th>\n",
              "      <th>Estrellas</th>\n",
              "      <th>Precio de lista</th>\n",
              "      <th>Precio de venta</th>\n",
              "    </tr>\n",
              "  </thead>\n",
              "  <tbody>\n",
              "    <tr>\n",
              "      <th>115</th>\n",
              "      <td>4</td>\n",
              "      <td>Lava 34 Plus</td>\n",
              "      <td>32</td>\n",
              "      <td>32</td>\n",
              "      <td>361</td>\n",
              "      <td>34</td>\n",
              "      <td>4.1</td>\n",
              "      <td>1699</td>\n",
              "      <td>1699</td>\n",
              "    </tr>\n",
              "    <tr>\n",
              "      <th>116</th>\n",
              "      <td>9</td>\n",
              "      <td>Realme 6 (Comet Blue, 128 GB)</td>\n",
              "      <td>6</td>\n",
              "      <td>128</td>\n",
              "      <td>30622</td>\n",
              "      <td>3002</td>\n",
              "      <td>4.4</td>\n",
              "      <td>16999</td>\n",
              "      <td>16999</td>\n",
              "    </tr>\n",
              "    <tr>\n",
              "      <th>117</th>\n",
              "      <td>9</td>\n",
              "      <td>Realme 6 Pro (Lightning Orange, 128 GB)</td>\n",
              "      <td>8</td>\n",
              "      <td>128</td>\n",
              "      <td>14361</td>\n",
              "      <td>1671</td>\n",
              "      <td>4.4</td>\n",
              "      <td>19999</td>\n",
              "      <td>19999</td>\n",
              "    </tr>\n",
              "    <tr>\n",
              "      <th>118</th>\n",
              "      <td>2</td>\n",
              "      <td>I Kall K14 New</td>\n",
              "      <td>32</td>\n",
              "      <td>64</td>\n",
              "      <td>7229</td>\n",
              "      <td>822</td>\n",
              "      <td>3.4</td>\n",
              "      <td>609</td>\n",
              "      <td>609</td>\n",
              "    </tr>\n",
              "    <tr>\n",
              "      <th>119</th>\n",
              "      <td>1</td>\n",
              "      <td>Apple iPhone XR (White, 64 GB)</td>\n",
              "      <td>0</td>\n",
              "      <td>64</td>\n",
              "      <td>11572</td>\n",
              "      <td>975</td>\n",
              "      <td>4.6</td>\n",
              "      <td>52500</td>\n",
              "      <td>46999</td>\n",
              "    </tr>\n",
              "  </tbody>\n",
              "</table>\n",
              "</div>"
            ],
            "text/plain": [
              "     ID Marca                                   Modelo  RAM_GB  ROM_GB  \\\n",
              "115         4                             Lava 34 Plus      32      32   \n",
              "116         9            Realme 6 (Comet Blue, 128 GB)       6     128   \n",
              "117         9  Realme 6 Pro (Lightning Orange, 128 GB)       8     128   \n",
              "118         2                           I Kall K14 New      32      64   \n",
              "119         1           Apple iPhone XR (White, 64 GB)       0      64   \n",
              "\n",
              "     Calificaciones  Reseas  Estrellas  Precio de lista  Precio de venta  \n",
              "115             361       34        4.1             1699             1699  \n",
              "116           30622     3002        4.4            16999            16999  \n",
              "117           14361     1671        4.4            19999            19999  \n",
              "118            7229      822        3.4              609              609  \n",
              "119           11572      975        4.6            52500            46999  "
            ]
          },
          "execution_count": 33,
          "metadata": {},
          "output_type": "execute_result"
        }
      ],
      "source": [
        "df_modelos.tail(5)"
      ]
    },
    {
      "cell_type": "code",
      "execution_count": 11,
      "metadata": {},
      "outputs": [
        {
          "data": {
            "text/plain": [
              "Index(['ID Marca', 'Modelo', 'RAM_GB', 'ROM_GB', 'Calificaciones', 'Reseas',\n",
              "       'Estrellas', 'Precio de lista', 'Precio de venta'],\n",
              "      dtype='object')"
            ]
          },
          "execution_count": 11,
          "metadata": {},
          "output_type": "execute_result"
        }
      ],
      "source": [
        "df_modelos.columns"
      ]
    },
    {
      "cell_type": "markdown",
      "metadata": {
        "id": "m2HobjRsTz7V"
      },
      "source": [
        "### Pregunta 4\n",
        "Utiliza los filtros para mostrar todos los teléfonos con 64GB en la columna `ROM_GB` e indica cuántos del listado poseen esta característica."
      ]
    },
    {
      "cell_type": "code",
      "execution_count": 15,
      "metadata": {
        "id": "-yfgYqiZF4yS"
      },
      "outputs": [
        {
          "data": {
            "text/html": [
              "<div>\n",
              "<style scoped>\n",
              "    .dataframe tbody tr th:only-of-type {\n",
              "        vertical-align: middle;\n",
              "    }\n",
              "\n",
              "    .dataframe tbody tr th {\n",
              "        vertical-align: top;\n",
              "    }\n",
              "\n",
              "    .dataframe thead th {\n",
              "        text-align: right;\n",
              "    }\n",
              "</style>\n",
              "<table border=\"1\" class=\"dataframe\">\n",
              "  <thead>\n",
              "    <tr style=\"text-align: right;\">\n",
              "      <th></th>\n",
              "      <th>ID Marca</th>\n",
              "      <th>Modelo</th>\n",
              "      <th>RAM_GB</th>\n",
              "      <th>ROM_GB</th>\n",
              "      <th>Calificaciones</th>\n",
              "      <th>Reseas</th>\n",
              "      <th>Estrellas</th>\n",
              "      <th>Precio de lista</th>\n",
              "      <th>Precio de venta</th>\n",
              "    </tr>\n",
              "  </thead>\n",
              "  <tbody>\n",
              "  </tbody>\n",
              "</table>\n",
              "</div>"
            ],
            "text/plain": [
              "Empty DataFrame\n",
              "Columns: [ID Marca, Modelo, RAM_GB, ROM_GB, Calificaciones, Reseas, Estrellas, Precio de lista, Precio de venta]\n",
              "Index: []"
            ]
          },
          "execution_count": 15,
          "metadata": {},
          "output_type": "execute_result"
        }
      ],
      "source": [
        "df_modelos[df_modelos['ROM_GB'] == '64']"
      ]
    },
    {
      "cell_type": "markdown",
      "metadata": {
        "id": "tfXR1-kf_WQd"
      },
      "source": [
        "### Pregunta 5\n",
        "Haz un histograma (`hist`) de la columna `ROM_GB` del **data frame** `df`.\n",
        "\n",
        "El gráfico debe incluir un título y las columnas tener un color personalizado."
      ]
    },
    {
      "cell_type": "code",
      "execution_count": null,
      "metadata": {
        "id": "Dfk9NBLQGGb3"
      },
      "outputs": [],
      "source": []
    },
    {
      "cell_type": "markdown",
      "metadata": {
        "id": "U8QOkYQnBCDY"
      },
      "source": [
        "### Pregunta 6\n",
        "Haz un diagrama de dispersión (`scatter`) con las siguientes características: el eje X deberá indicar el contenido de la columna `Precio de lista`, mientras que el eje Y expresará el contenido de la columna `Precio de venta`.\n",
        "\n",
        "El diagrama debe incluir un título y los puntos tener un color personalizado."
      ]
    },
    {
      "cell_type": "code",
      "execution_count": null,
      "metadata": {
        "id": "ttIgS7LAGHDm"
      },
      "outputs": [],
      "source": []
    },
    {
      "cell_type": "markdown",
      "metadata": {
        "id": "qWHZAMi2DZos"
      },
      "source": [
        "### Pregunta 7\n",
        "\n",
        "Con base en el diagrama de la **pregunta 6**, responde la siguiente pregunta: ¿A qué conclusión podrías llegar si observas únicamente la gráfica?"
      ]
    },
    {
      "cell_type": "markdown",
      "metadata": {
        "id": "Aql08i4fGIxs"
      },
      "source": []
    },
    {
      "cell_type": "markdown",
      "metadata": {
        "id": "3H4LtqjhEGME"
      },
      "source": [
        "### Pregunta 8\n",
        "Utiliza el código para obtener la siguiente información (ubicada en `df`).\n",
        "\n",
        "- Promedio de los precios de venta de los modelos marca **Realme**\n",
        "- Máximo de estrellas de los modelos marca **Redmi**\n",
        "- Mínimo de Estrellas de los modelos marca **Redmi**"
      ]
    },
    {
      "cell_type": "code",
      "execution_count": null,
      "metadata": {
        "id": "8AApDz1dGKQr"
      },
      "outputs": [],
      "source": []
    },
    {
      "cell_type": "markdown",
      "metadata": {
        "id": "ds4EGI0SHEKB"
      },
      "source": [
        "### Pregunta 9\n",
        "Utiliza un **Groupby** para mostrar la cantidad de estrellas promedio que cada marca tiene en `df`."
      ]
    },
    {
      "cell_type": "code",
      "execution_count": null,
      "metadata": {
        "id": "U_iMhR_gGLBV"
      },
      "outputs": [],
      "source": []
    },
    {
      "cell_type": "markdown",
      "metadata": {
        "id": "ALRDH3eRHkZN"
      },
      "source": [
        "### Pregunta 10\n",
        "¿Qué otro dato puedes obtener de `df` y cómo lo extraerías?"
      ]
    },
    {
      "cell_type": "code",
      "execution_count": null,
      "metadata": {
        "id": "9HUy8LdgGLvM"
      },
      "outputs": [],
      "source": []
    }
  ],
  "metadata": {
    "colab": {
      "provenance": []
    },
    "kernelspec": {
      "display_name": "Python 3",
      "name": "python3"
    },
    "language_info": {
      "codemirror_mode": {
        "name": "ipython",
        "version": 3
      },
      "file_extension": ".py",
      "mimetype": "text/x-python",
      "name": "python",
      "nbconvert_exporter": "python",
      "pygments_lexer": "ipython3",
      "version": "3.11.4"
    }
  },
  "nbformat": 4,
  "nbformat_minor": 0
}
