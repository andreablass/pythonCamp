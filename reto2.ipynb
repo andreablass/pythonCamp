{
 "cells": [
  {
   "cell_type": "code",
   "execution_count": null,
   "metadata": {},
   "outputs": [],
   "source": [
    "#Ponte a prueba\n",
    "#Genera una lista llamada numeros_primos que contenga los siguientes valores: 1 2 3 5 7 11 13 17 19 23 29 31\n",
    "#Ahora deberás indicar cuál es el tercer valor, el séptimo valor y el último valor usando las expresiones que aprendimos en este apartado."
   ]
  }
 ],
 "metadata": {
  "language_info": {
   "name": "python"
  },
  "orig_nbformat": 4
 },
 "nbformat": 4,
 "nbformat_minor": 2
}
